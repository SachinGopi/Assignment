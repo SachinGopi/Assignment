{
 "cells": [
  {
   "cell_type": "code",
   "execution_count": null,
   "id": "b345954e",
   "metadata": {},
   "outputs": [],
   "source": [
    "#Created a Function which helps to change the specific content in the file'example.txt'\n",
    "\n",
    "def replace(a,b):\n",
    "    fin = open(\"example.txt\", \"rt\")\n",
    "    data = fin.read()\n",
    "    data = data.replace(a,b)\n",
    "    fin.close()\n",
    "    fin = open(\"example.txt\", \"wt\")\n",
    "    fin.write(data)\n",
    "    fin.close()"
   ]
  },
  {
   "cell_type": "code",
   "execution_count": null,
   "id": "5a6efdc2",
   "metadata": {},
   "outputs": [],
   "source": [
    "replace('placement','screening')"
   ]
  },
  {
   "cell_type": "code",
   "execution_count": null,
   "id": "1066d2a4",
   "metadata": {},
   "outputs": [],
   "source": [
    "#Abstraction:\n",
    "# Abstraction is used to hide the internal functionality of the function from the users. \n",
    "#The users only interact with the basic implementation of the function, but inner working is hidden.\n",
    "#It will not allow the user to call avariable so that the user cannot manipulate it."
   ]
  },
  {
   "cell_type": "code",
   "execution_count": null,
   "id": "124b884b",
   "metadata": {},
   "outputs": [],
   "source": [
    "#In Python, Abstraction is symbolized.\n",
    "#Public - no ubderscore(It means it is public and it can be accessed outside the Class also)\n",
    "#Protected - _ Single underscore(It also can accessed outside the class but can't access outside the package)\n",
    "#Private - __ Double Underscore(It can be accessed pnly inside the class but it does'nt mean it cannot be accessed outside the class) "
   ]
  },
  {
   "cell_type": "code",
   "execution_count": 13,
   "id": "b5ff1611",
   "metadata": {},
   "outputs": [],
   "source": [
    "#Public\n",
    "class test:\n",
    "    #here defining the four variables inside the class test:\n",
    "    def __init__(self, a , b , c ) :\n",
    "        self.a = a \n",
    "        self.b = b\n",
    "        self.c = c \n",
    "    #here defining the function sample:    \n",
    "    def sample(self , x) : \n",
    "         return x + self.a"
   ]
  },
  {
   "cell_type": "code",
   "execution_count": 16,
   "id": "c6409b71",
   "metadata": {},
   "outputs": [
    {
     "data": {
      "text/plain": [
       "4"
      ]
     },
     "execution_count": 16,
     "metadata": {},
     "output_type": "execute_result"
    }
   ],
   "source": [
    "#Assigning values to variable 't' using 'test' class \n",
    "t = test(25,48,12)\n",
    "#Accessing the Variable 'a' from the'test' function\n",
    "t.a"
   ]
  },
  {
   "cell_type": "code",
   "execution_count": 26,
   "id": "2f0d67e6",
   "metadata": {},
   "outputs": [],
   "source": [
    "#Protected\n",
    "class test:\n",
    "    #here defining the four variables inside the class test:\n",
    "    def __init__(self, a , b , c ) :\n",
    "        self.a = a\n",
    "        #Single underscore(_) refers to a Protected variable and so it can be accessed within the package\n",
    "        self._b = b\n",
    "        self.c = c \n",
    "    #here defining the function sample:    \n",
    "    def sample(self , x) : \n",
    "         return x + self._b"
   ]
  },
  {
   "cell_type": "code",
   "execution_count": 30,
   "id": "5f8c1ee9",
   "metadata": {},
   "outputs": [
    {
     "data": {
      "text/plain": [
       "5"
      ]
     },
     "execution_count": 30,
     "metadata": {},
     "output_type": "execute_result"
    }
   ],
   "source": [
    "#Assigning values to variable 't1' using 'test' class \n",
    "t1 = test(25,48,12)\n",
    "#Accessing the Protected Variable within the Package\n",
    "t1._b"
   ]
  },
  {
   "cell_type": "code",
   "execution_count": 31,
   "id": "30b844b7",
   "metadata": {},
   "outputs": [
    {
     "data": {
      "text/plain": [
       "3"
      ]
     },
     "execution_count": 31,
     "metadata": {},
     "output_type": "execute_result"
    }
   ],
   "source": [
    "#Using the 'sample' function accessing the Protected variable\n",
    "t1.sample(8)"
   ]
  },
  {
   "cell_type": "code",
   "execution_count": 34,
   "id": "7810c257",
   "metadata": {},
   "outputs": [],
   "source": [
    "#Private\n",
    "class test:\n",
    "    #here defining the four variables inside the class test:\n",
    "    def __init__(self, a , b , c) :\n",
    "        self.a = a \n",
    "        self.b = b\n",
    "        #Double Underscore(__) refers to that variable is Private Variable and it can be accessed only within the class \n",
    "        self.__c = c \n",
    "    #here defining the function sample:    \n",
    "    def sample(self , x) :\n",
    "        #Using the Private Variable within the class \n",
    "         return x + self.__c"
   ]
  },
  {
   "cell_type": "code",
   "execution_count": 35,
   "id": "54297c39",
   "metadata": {},
   "outputs": [
    {
     "data": {
      "text/plain": [
       "3"
      ]
     },
     "execution_count": 35,
     "metadata": {},
     "output_type": "execute_result"
    }
   ],
   "source": [
    "#Assigning values to variable 't2' using 'test' class \n",
    "t2 = test(25,48,12)\n",
    "#Accessing the 'sample' function which is using the Private Variable\n",
    "t2.sample(9)"
   ]
  },
  {
   "cell_type": "code",
   "execution_count": 32,
   "id": "d9de3d1b",
   "metadata": {},
   "outputs": [
    {
     "ename": "AttributeError",
     "evalue": "'test' object has no attribute '__c'",
     "output_type": "error",
     "traceback": [
      "\u001b[1;31m---------------------------------------------------------------------------\u001b[0m",
      "\u001b[1;31mAttributeError\u001b[0m                            Traceback (most recent call last)",
      "\u001b[1;32m~\\AppData\\Local\\Temp/ipykernel_10176/3224755486.py\u001b[0m in \u001b[0;36m<module>\u001b[1;34m\u001b[0m\n\u001b[1;32m----> 1\u001b[1;33m \u001b[0mt2\u001b[0m\u001b[1;33m.\u001b[0m\u001b[0m__c\u001b[0m\u001b[1;33m\u001b[0m\u001b[1;33m\u001b[0m\u001b[0m\n\u001b[0m",
      "\u001b[1;31mAttributeError\u001b[0m: 'test' object has no attribute '__c'"
     ]
    }
   ],
   "source": [
    "#Trying to access the Private Variable and it's showing 'test' object has no attribute '__c'\n",
    "t2.__c"
   ]
  },
  {
   "cell_type": "code",
   "execution_count": 36,
   "id": "8a65c524",
   "metadata": {},
   "outputs": [
    {
     "data": {
      "text/plain": [
       "6"
      ]
     },
     "execution_count": 36,
     "metadata": {},
     "output_type": "execute_result"
    }
   ],
   "source": [
    "#In the above cell, It shows that the Private variable cannot be accessed directly outside the class\n",
    "#But in Python there is a different method which helps to access the Private variable, that is\n",
    "t2._test__c\n",
    "#And so Abstraction in Python is symbolized."
   ]
  },
  {
   "cell_type": "code",
   "execution_count": null,
   "id": "9697f025",
   "metadata": {},
   "outputs": [],
   "source": [
    "#Inheritance\n",
    "#It is used re-utilize the work which was done for the different module.\n",
    "#It allows to inherit property of parent class to the child class.\n",
    "#And there One-One Inheritance,Multiple Inheritance, Multi-Level Inheritance"
   ]
  },
  {
   "cell_type": "code",
   "execution_count": null,
   "id": "ac3e721d",
   "metadata": {},
   "outputs": [],
   "source": [
    "#Multiple Inheritance\n",
    "#It is used to inherit property of two classes into a single class and able to access the property of both the class."
   ]
  },
  {
   "cell_type": "code",
   "execution_count": 28,
   "id": "571d90e7",
   "metadata": {},
   "outputs": [
    {
     "name": "stdout",
     "output_type": "stream",
     "text": [
      "My Name is Gopinath pursuing DataScience.\n"
     ]
    }
   ],
   "source": [
    "#Creating the First Class \n",
    "class Name:\n",
    "    name = 'Gopinath'\n",
    "\n",
    "#Creating the Second Class\n",
    "class Education:\n",
    "    education = 'DataScience'\n",
    "    \n",
    "#Creating the Third Class which inherits First and Second Class    \n",
    "class main_class(Name, Education):\n",
    "    def __init__(self):\n",
    "        #Accessing the Property of both first and second class\n",
    "        print('My Name is {0} pursuing {1}.'.format(self.name,self.education))\n",
    "\n",
    "        \n",
    "#Calling the Third Class which gives the output which contains both frist and second class       \n",
    "a = main_class()"
   ]
  },
  {
   "cell_type": "code",
   "execution_count": null,
   "id": "52949318",
   "metadata": {},
   "outputs": [],
   "source": [
    "# Decorators\n",
    "#It is used to change the behaviour of the function without modifying the function.\n",
    "#It can also add extra features to the existing function"
   ]
  },
  {
   "cell_type": "code",
   "execution_count": 25,
   "id": "65d62f33",
   "metadata": {},
   "outputs": [
    {
     "name": "stdout",
     "output_type": "stream",
     "text": [
      "This is the opening function\n",
      "This is inside function\n",
      "This is the ending function\n"
     ]
    }
   ],
   "source": [
    "#Defining a Decorator\n",
    "def decorator_fn(func):\n",
    "    # Inner is a Wrapper function in which the argument is called\n",
    "    # Inner function can access the outer local\n",
    "    def inner():\n",
    "        print(\"This is the opening function\")\n",
    "        # Calling the actual function now inside the wrapper function.\n",
    "        func()\n",
    "        print(\"This is the ending function\")\n",
    "    return inner\n",
    " \n",
    "\n",
    "# defining a function, to be called inside wrapper\n",
    "def calling_function():\n",
    "    print(\"This is inside function\")\n",
    "    \n",
    "# passing 'calling_function' inside the decorator to control its behaviour   \n",
    "calling_function= decorator_fn(calling_function)\n",
    "\n",
    "# calling the function\n",
    "calling_function()"
   ]
  },
  {
   "cell_type": "code",
   "execution_count": 24,
   "id": "9e680ec5",
   "metadata": {},
   "outputs": [
    {
     "name": "stdout",
     "output_type": "stream",
     "text": [
      "This is the opening function\n",
      "This is inside function\n",
      "This is the ending function\n"
     ]
    }
   ],
   "source": [
    "#defining the Decorator\n",
    "def decorator_fn(func):\n",
    "    # Inner is a Wrapper function in which the argument is called\n",
    "    # Inner function can access the outer local\n",
    "    def inner():\n",
    "        print(\"This is the opening function\")\n",
    "        # Calling the actual function now inside the wrapper function.\n",
    "        func()\n",
    "        print(\"This is the ending function\")\n",
    "    return inner\n",
    " \n",
    "# passing 'calling_function' inside the decorator to control its behaviour using @decorator_fn \n",
    "@decorator_fn\n",
    "# defining a function, to be called inside wrapper\n",
    "def calling_function():\n",
    "    print(\"This is inside function\")\n",
    "    \n",
    "# calling the function\n",
    "calling_function()"
   ]
  },
  {
   "cell_type": "code",
   "execution_count": null,
   "id": "52825b19",
   "metadata": {},
   "outputs": [],
   "source": [
    "#Another Exmaple\n",
    "#Here, decorator is used to modify the behaviour of the function 'sub'\n",
    "#In the normal'sub' function will return the value in Negative when the first value lesser than second value.\n",
    "#But, In this Decorator is used to modify the 'sub' to return the value in positive irrespective which one is greater."
   ]
  },
  {
   "cell_type": "code",
   "execution_count": 29,
   "id": "0a7c24de",
   "metadata": {},
   "outputs": [
    {
     "data": {
      "text/plain": [
       "2"
      ]
     },
     "execution_count": 29,
     "metadata": {},
     "output_type": "execute_result"
    }
   ],
   "source": [
    "@smart_div\n",
    "def sub(a,b):\n",
    "    return(a-b)\n",
    "\n",
    "\n",
    "def smart_sub(func):\n",
    "    \n",
    "    def inner(a,b):\n",
    "        if a<b:\n",
    "            a,b=b,a\n",
    "        return func(a,b)\n",
    "    \n",
    "    return inner\n",
    "\n",
    "sub(2,4)"
   ]
  },
  {
   "cell_type": "code",
   "execution_count": null,
   "id": "081e9600",
   "metadata": {},
   "outputs": [],
   "source": []
  }
 ],
 "metadata": {
  "kernelspec": {
   "display_name": "Python 3 (ipykernel)",
   "language": "python",
   "name": "python3"
  },
  "language_info": {
   "codemirror_mode": {
    "name": "ipython",
    "version": 3
   },
   "file_extension": ".py",
   "mimetype": "text/x-python",
   "name": "python",
   "nbconvert_exporter": "python",
   "pygments_lexer": "ipython3",
   "version": "3.9.7"
  }
 },
 "nbformat": 4,
 "nbformat_minor": 5
}
